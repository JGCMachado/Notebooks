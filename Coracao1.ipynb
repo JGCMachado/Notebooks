{
  "cells": [
    {
      "cell_type": "markdown",
      "metadata": {
        "id": "M75W2Q4NMbgz"
      },
      "source": [
        "#MVP de Análise de Dados e Boas Práticas\n",
        "Profs. Tatiana Escovedo e Hugo Villamizar\n",
        "\n",
        "##Aluno: José Guilherme Campos Machado"
      ]
    },
    {
      "cell_type": "markdown",
      "metadata": {
        "id": "QDBgjsYPJeQW"
      },
      "source": [
        "Este trabalho é referente ao MVP da primeira sprint (Análise Exploratória e Pré-Processamento de Dados) do curso de Pós-Graduação em Ciência de Dados e Analytics da PUC-RJ"
      ]
    },
    {
      "cell_type": "markdown",
      "source": [
        "##1.0 Definição do problema\n",
        "\n",
        "Sabemos que os problemas cardíacos estão entre as principais causas de mortes no mundo e que entre os principais fatores de risco que podem levar a eles podemos citar a idade, o sexo, histórico familiar, altas taxas de colesterol, pressão arterial elevada, tabagismo, sedentarismo e obesidade.\n",
        "Nem todos esses fatores estão presentes nesse estudo mas alguns deles nos guiarão por esse trabalho de analise exploratória e pré processamento na busca por padrões e tendências que possam ser úteis na prevenção e tratamento de doenças cardíacas, nos fornecendo insights valiosos para futuras pesquisas e intervenções médicas.\n"
      ],
      "metadata": {
        "id": "q_ah3n0RSgk9"
      }
    },
    {
      "cell_type": "code",
      "source": [
        "# Importação da imagem \n",
        "from IPython.display import Image\n",
        "Image(url='https://raw.githubusercontent.com/Z3Gu1/Imagens/5e16249947e7fc9d33ecbe1fce77c9a1c4506193/heartdisease.jpg')\n"
      ],
      "metadata": {
        "id": "PekGPrLWVMxo"
      },
      "execution_count": null,
      "outputs": []
    },
    {
      "cell_type": "markdown",
      "metadata": {
        "id": "uXNTpqjrWb-P"
      },
      "source": [
        "\n",
        "O conjunto de dados Heart Disease UCI contém informações sobre pacientes que foram avaliados para a presença de doença cardíaca. É um arquivo no formato csv e não contém os nomes das colunas.\n",
        "\n",
        "\n",
        "O dataset adotado é composto por informações referentes a pacientes do hospital de Cleveland. O conjunto consiste nos dados de 303 indivíduos. Há 14 colunas (que foram extraídas de um conjunto maior de 75). Não há valores ausentes. A tarefa de classificação é tentar antecipar se uma pessoa tem tendência a desenvolver complicações cardíacas.\n",
        "\n",
        "\n",
        "Este é um problema de aprendizado supervisionado e o campo target contém os valores 0 para ausência de doenças cardíacas, 1 para presença de doenças cardíacas e 2 3 e 4 para presença de doenças cardíacas com diferentes graus de gravidade.\n",
        "\n",
        "\n",
        "\n",
        "\n"
      ]
    },
    {
      "cell_type": "markdown",
      "metadata": {
        "id": "pUwRS3h7gsE_"
      },
      "source": [
        "Para esse trabalho foram levantadas algumas hipóteses:\n",
        "\n",
        "1. A idade e o sexo do paciente podem estar correlacionados com a presença de doença cardíaca?\n",
        "2. Certos fatores de risco, como hipertensão e colesterol alto, podem ser indicadores importantes para a presença de doença cardíaca?\n",
        "3. Os resultados de testes cardíacos, como o ECG, podem fornecer informações úteis para prever a presença de doença cardíaca?\n",
        "\n",
        "\n"
      ]
    },
    {
      "cell_type": "markdown",
      "metadata": {
        "id": "0J8fSPWuu8BW"
      },
      "source": [
        "O dataset chama \"Cleveland Heart Disease\", pertence ao acervo do site UCI e pode ser consultado em https://archive.ics.uci.edu/ml/datasets/Heart+Disease."
      ]
    },
    {
      "cell_type": "markdown",
      "metadata": {
        "id": "16gSwwCDLap1"
      },
      "source": [
        "Para facilitar o entendimento no decorrer das análises os nomes dos atributos originais do dataset foram traduzidos ou adaptados."
      ]
    },
    {
      "cell_type": "markdown",
      "metadata": {
        "id": "EoybYnAy3VaH"
      },
      "source": [
        "\n",
        "**Informações sobre os atributos:**\n",
        "1. **idade** - em anos\n",
        "2. **sexo** - **1** masculino e **0** feminino\n",
        "3. **angina** - Dores no peito (chest pain) (**1** angina tipica, **2** angina atipica, **3** dor torácica não anginal, **4** assintomático)\n",
        "4. **pa** - pressão arterial em repouso (em mm Hg na adimissão ao hospital)\n",
        "5. **colesterol** - colesterol mg/dl\n",
        "6. **glicose** - glicose em jejum (fasting blood sugar) > 120 mg/dl (**1** verdadeiro, **0** falso)\n",
        "7. **ecg** - eletrocardiograma repouso (**0** normal, **1** anormalidades da onda ST-T , **2** hipertrofia ventricular esquerda provável ou definitiva)\n",
        "8. **bpm** -  batimentos cardiacos maximo por minuto alcançado\n",
        "9. **exang** - exercicio induz angina? (**1** sim, **0** não)\n",
        "10. **depressão do segmento ST** - \"oldpeak\", induzida pelo exercício em relação ao repouso. Esse atributo mede a depressão do segmento ST do eletrocardiograma (ECG) induzida pelo exercício físico em relação ao repouso. A depressão do segmento ST é uma medida da isquemia miocárdica, que é uma redução do suprimento de sangue ao músculo cardíaco, geralmente devido a uma obstrução nas artérias coronárias. É expresso em milímetros (mm).  **Valores elevados de \"Oldpeak\" podem indicar uma isquemia miocárdica mais acentuada** e um risco maior de complicações cardíacas.\n",
        "11. **inclinação do segmento ST** - \"Slope\" Ou elevação do ponto J no eletrocardiograma (ECG)\n",
        "      1. indica uma inclinação ascendente do segmento ST durante o pico do exercício, o que é considerado normal e indica menor risco de eventos cardiovasculares futuros\n",
        "      2. indica um segmento ST plano durante o pico do exercício, o que pode indicar uma doença arterial coronariana em estágio inicial e um risco moderado de eventos cardiovasculares futuros\n",
        "      3. indica uma inclinação descendente do segmento ST durante o pico do exercício, o que indica uma doença arterial coronariana mais grave e um risco elevado de eventos cardiovasculares futuros\n",
        "12. **angiografia** - número de vasos sanguíneos importantes no coração que foram visualizados durante uma angiografia coronária(**0-3**) coloridas por fluoroscopia.\n",
        "13. **cintilografia** - teste de estresse nuclear (**3**  normal, **6** defeito fixo, **7** defeito reversível)\n",
        "14. **grau doença arterial** - status da doença arterial coronariana diagnosticada pelo exame angiográfico (**0** Ausência de doença cardíaca, **1** Presença de doença cardíaca, **2 3** e **4** Presença de doença cardíaca com diferentes graus de gravidade)\n",
        "\n"
      ]
    },
    {
      "cell_type": "markdown",
      "metadata": {
        "id": "rzO5HhbFGdSC"
      },
      "source": [
        "###1.1 Créditos autorais\n",
        "\n",
        "Originalmente esse dataset é composto por quatro arquivos. Os responsáveis por cada arquivo coletado são:\n",
        "\n",
        "1. Robert Detrano, M.D., Ph.D. - Centro Médico V.A. em Long Beach e Fundação da Clínica Cleveland\n",
        "2. Andras Janosi, M.D. - Instituto Húngaro de Cardiologia em Budapeste \n",
        "3. Matthias Pfisterer, M.D. - Hospital Universitário, Basel, Suíça\n",
        "4. William Steinbrunn, M.D. - Hospital Universitário de Zurique, Suíça\n"
      ]
    },
    {
      "cell_type": "code",
      "execution_count": null,
      "metadata": {
        "id": "rmWflnvjS4tw"
      },
      "outputs": [],
      "source": [
        "# Importações\n",
        "import pandas as pd\n",
        "import numpy as np\n",
        "import matplotlib\n",
        "import matplotlib.pyplot as plt\n",
        "import seaborn as sns\n",
        "import missingno as ms # para tratamento de missings"
      ]
    },
    {
      "cell_type": "code",
      "execution_count": null,
      "metadata": {
        "id": "NSpRtKZXJbxZ"
      },
      "outputs": [],
      "source": [
        "# configuração para não exibir os warnings\n",
        "import warnings\n",
        "warnings.filterwarnings(\"ignore\")"
      ]
    },
    {
      "cell_type": "code",
      "source": [
        "# Definindo estilo e as paletas de cores que serão usadas\n",
        "\n",
        "# Definindo a paleta usada para os graficos sobre o grau da doenca cardiaca\n",
        "palette1_colors = sns.color_palette(\"Paired\")\n",
        "palette2_colors = sns.color_palette(\"rocket\")\n",
        "# Definindo as cores usadas e de qual paleta\n",
        "color_0 = palette1_colors[3]\n",
        "color_1 = palette2_colors[4]\n",
        "color_2 = palette2_colors[3]\n",
        "color_3 = palette2_colors[2]\n",
        "color_4 = palette2_colors[1]\n",
        "paleta_grau_doenca_arterial = [color_0, color_1, color_2, color_3, color_4]\n",
        "\n",
        "# Definindo a paleta usada para os graficos de pizza\n",
        "paleta_pizza=sns.color_palette(\"tab10\")\n",
        "\n",
        "paleta_pizza_cintilografia=sns.cubehelix_palette(rot=-.2)"
      ],
      "metadata": {
        "id": "U6I0c7cHPM_j"
      },
      "execution_count": null,
      "outputs": []
    },
    {
      "cell_type": "markdown",
      "metadata": {
        "id": "6lZ0IsXCJtSO"
      },
      "source": [
        "##2.0 Carga de Dados\n",
        "\n",
        "A importação do dataset será através do pacote Pandas (Python Data Analysis Library), um arquivo .csv sem cabeçalho disponibilizado no github.\n",
        "\n",
        "Com o dataset carregado, iremos explorá-lo um pouco.\n"
      ]
    },
    {
      "cell_type": "code",
      "execution_count": null,
      "metadata": {
        "id": "nkYAO3_l-oQE"
      },
      "outputs": [],
      "source": [
        "# Como o cabeçalho não está no arquivo, aqui preparamos os nomes das colunas para importar junto\n",
        "colunas = ['idade', 'sexo', 'angina', 'pa', 'colesterol', 'glicose', 'ecg', 'bpm', 'exang', 'depressão do segmento ST',  \\\n",
        "           'inclinação do segmento ST', 'angiografia', 'cintilografia', 'grau doença arterial']\n",
        "\n",
        "# Carrega a variavel com o endereço do arquivo no github que contem o dataset\n",
        "filename = \"https://raw.githubusercontent.com/Z3Gu1/Datasets/main/processed.cleveland.data.csv\" \n",
        "\n",
        "# carga do dataset adicionando os nomes das colunas\n",
        "heart_disease = pd.read_csv(filename, names=colunas)"
      ]
    },
    {
      "cell_type": "code",
      "execution_count": null,
      "metadata": {
        "id": "1CsFrNNDVQ4s"
      },
      "outputs": [],
      "source": [
        "# verifica o tipo do dataset heart_disease\n",
        "print(type(heart_disease))"
      ]
    },
    {
      "cell_type": "code",
      "execution_count": null,
      "metadata": {
        "id": "W6Eq9htDJkWX"
      },
      "outputs": [],
      "source": [
        "# exibe as primeiras linhas para verificar se a importação ocorreu de acordo com o esperado\n",
        "heart_disease.head()"
      ]
    },
    {
      "cell_type": "markdown",
      "metadata": {
        "id": "JVl73yyqT5jd"
      },
      "source": [
        "## 3.0 Analise de Dados"
      ]
    },
    {
      "cell_type": "markdown",
      "metadata": {
        "id": "bU9SPB8UULFG"
      },
      "source": [
        "### 3.1 Estatísticas Descritivas\n",
        "\n",
        "Iniciaremos explorando um pouco o dataset heart, suas dimensões, informações e alguns exemplos de linhas.\n",
        "Como já foi dito no inicio e agora podemos comprovar, o dataset é composto por 303 linhas referentes aos pacientes e 14 colunas referentes as suas condições cardiológicas.\n",
        "Na sequencia vamos ver os tipos de dados dos atributos contidos no arquivo original e uma pequena amostra das 10 primeiras e 10 ultimas linhas do dataset para analisar um pouco de seu conteudo e verificar se a importação dos dados foi ok."
      ]
    },
    {
      "cell_type": "code",
      "execution_count": null,
      "metadata": {
        "id": "umvYI9k6aNUO"
      },
      "outputs": [],
      "source": [
        "# Mostra as dimensões do dataset\n",
        "print(heart_disease.shape)"
      ]
    },
    {
      "cell_type": "code",
      "execution_count": null,
      "metadata": {
        "id": "P3ZjWzlzVzy9"
      },
      "outputs": [],
      "source": [
        "# Mostra as informações do dataset\n",
        "print(heart_disease.info())"
      ]
    },
    {
      "cell_type": "code",
      "execution_count": null,
      "metadata": {
        "id": "DXakR77cV-Ud"
      },
      "outputs": [],
      "source": [
        "# Mostra as 10 primeiras linhas do dataset\n",
        "heart_disease.head(10)"
      ]
    },
    {
      "cell_type": "code",
      "execution_count": null,
      "metadata": {
        "id": "OejTT9B5WUut"
      },
      "outputs": [],
      "source": [
        "# Mostra as 10 últimas linhas do dataset\n",
        "heart_disease.tail(10)"
      ]
    },
    {
      "cell_type": "markdown",
      "metadata": {
        "id": "bMDipv83Z0Ax"
      },
      "source": [
        "Verificar os tipos dos dados é um passo importante para garantir que você possa trabalhar com o conjunto de forma precisa e eficaz. Os tipos de dados podem afetar diretamente a forma como você manipula e analisa o dataset.\n",
        "\n",
        "Com base na a verificação dos datatypes podemos verificar que varios atributos que são do tipo int estão definidos como float, assim como os dois atributos que estão como object.\n",
        "\n"
      ]
    },
    {
      "cell_type": "markdown",
      "metadata": {
        "id": "VY7KhkqPNLvI"
      },
      "source": [
        "Nesse momento vejo que é importante converter os atributos que estão como object para int que é o tipo correto deles, para que eles apareçam nas estatísticas descritivas. Ao tentar executar essa conversão descobri que embora eles não contenham nulos ou \"NaN\" eles apresentam valores inválidos que inviabilizam uma conversão direta sem tratamento.\n",
        "\n",
        "Vou então apenas converte-los para numéricos e posteriormente na fase de tratamento de missings e limpeza farei um trabalho mais a fundo nesse ponto com esses e com os demais atributos."
      ]
    },
    {
      "cell_type": "code",
      "execution_count": null,
      "metadata": {
        "id": "e8e6mEVW52u3"
      },
      "outputs": [],
      "source": [
        "# Convertendo os atributos para numericos\n",
        "heart_disease[[\"cintilografia\", \"angiografia\"]] = heart_disease[[\"cintilografia\", \"angiografia\"]].apply(pd.to_numeric, errors='coerce')"
      ]
    },
    {
      "cell_type": "code",
      "execution_count": null,
      "metadata": {
        "id": "460LncdoXEz1"
      },
      "outputs": [],
      "source": [
        "# Verificando novamente os tipos de dados das colunas\n",
        "heart_disease.dtypes"
      ]
    },
    {
      "cell_type": "code",
      "execution_count": null,
      "metadata": {
        "id": "B2tfew98ZV1e"
      },
      "outputs": [],
      "source": [
        "# Faz um resumo estatístico do dataset (média, desvio padrão, mínimo, máximo e os quartis)\n",
        "heart_disease.describe()"
      ]
    },
    {
      "cell_type": "markdown",
      "metadata": {
        "id": "50t6RzhKrv5j"
      },
      "source": [
        "Vamos agora verificar o balanceamento das cargas do dataset. Em um primeiro momento pode parecer que as classes estão desbalanceadas visto que a classe **0** referente a \"Ausência de Doença Cardíaca\" é muito maior que as outras porém todas as outras classes juntas representam \"Presença de doença cardíaca\" \n",
        "\n",
        "O que ocorre não é exatamente um desbalanceamento mas esta situação também sera tratada posteriormente."
      ]
    },
    {
      "cell_type": "code",
      "execution_count": null,
      "metadata": {
        "id": "IKX8Y9Ot_-Eh"
      },
      "outputs": [],
      "source": [
        "# distribuição das classes\n",
        "print(heart_disease.groupby('grau doença arterial').size())"
      ]
    },
    {
      "cell_type": "markdown",
      "metadata": {
        "id": "SggfUndQCf4I"
      },
      "source": [
        "### 3.2 Visualizações Unimodais\n",
        "\n",
        "Ao analisar gráficos unimodais, é possível identificar a localização do pico, a simetria da distribuição e a largura da curva, entre outros aspectos, o que pode ser útil para tomada de decisões.\n",
        "\n",
        "Vemos nos histogramas abaixo que os atributos idade, pressão arterial (pa), colesterol e frequencia cardiaca (bpm) apresentam uma distribuição proxima a normalidade com o pico muito próximo da media. Já no gráfico de depressão do segmento ST observamos um comportamento exponencial decrescendo a direita mostrando que a  obstrução nas arterias coronárias pode ser um processo gradativo.\n",
        "\n",
        "Os demais gráficos são referentes a atributos categóricos e mostram suas distribuições sem necessáriamente ter relação entre seus valores. Precisamos ter atenção nos gráficos com o comportamento igual ao gráfico da angina que pode nos levar a interpretar erroneamente um aumento gradativo do valor. Nele, 1 representa angina tipica, 2 angina atipica, 3 dor torácica não anginal e 4 assintomático, não havendo relação nenhuma entre eles."
      ]
    },
    {
      "cell_type": "code",
      "execution_count": null,
      "metadata": {
        "id": "vV6qqc99ChcA"
      },
      "outputs": [],
      "source": [
        "# Histograma\n",
        "heart_disease.hist(figsize = (20,15), layout = (5,3))\n",
        "plt.show()"
      ]
    },
    {
      "cell_type": "markdown",
      "metadata": {
        "id": "nIUYjUThNaXN"
      },
      "source": [
        "O density plot, é uma visualização gráfica que mostra a distribuição de um conjunto de dados contínuos. É uma forma de representar a densidade de probabilidade de uma variável aleatória.\n",
        "\n",
        "Para o Density Plot ou Gráfico de Densidade, resolvi utilizar apenas as variáveis contínuas. Vou separar em um subset do heart_disease apenas as variáveis continuas e o nosso target (até o momento) e depois gerar os gráficos\n",
        "\n",
        "\n",
        "Podemos constatar que os nossos atributos (dentre eles idade, pressão arterial e colesterol que foram mencionados nos fatores de risco) possuem uma concentração com distribuição normal entre os valores e assim como a análise dos histogramas acima possuem maior concentração muito próximo da media."
      ]
    },
    {
      "cell_type": "code",
      "source": [
        "# Separando as variáveia contínuas em um subset do heart_disease e preparando os títulos para os gráficos\n",
        "heart_disease_continuas = heart_disease[[\"idade\", \"pa\", \"colesterol\", \"bpm\", \"depressão do segmento ST\",\"grau doença arterial\"]] \n",
        "titulos_heart_disease_continuas = [\"Distribuição da idade dos pacientes\", \"Distribuição da Pressão Arterial\", \"Distribuição das taxas de Colesterol\", \\\n",
        "                                   \"Distribuição dos valores dos Batimentos Cardíacos\", \"Distribuição da Depressão do Segmento ST\", \"Distribuição do Grau de Doença Arterial\"]"
      ],
      "metadata": {
        "id": "DepPtnY6Soac"
      },
      "execution_count": null,
      "outputs": []
    },
    {
      "cell_type": "code",
      "source": [
        "# Density Plot apenas das variáveis continuas\n",
        "heart_disease_continuas.plot(kind='density', subplots=True, layout=(3,2), sharex=False, figsize=(15,10), grid=False)\n",
        "for i, ax in enumerate(plt.gcf().axes):\n",
        "    ax.set_title(titulos_heart_disease_continuas[i], fontsize=16, fontweight=\"bold\")\n",
        "plt.tight_layout()\n",
        "plt.show()\n"
      ],
      "metadata": {
        "id": "hLtB0EXuYx-u"
      },
      "execution_count": null,
      "outputs": []
    },
    {
      "cell_type": "markdown",
      "source": [
        "### 3.3 Visualizações Categóricas\n",
        "\n",
        "Nos gráficos anteriores vimos as variáveis contínuas, agora analizaremos a distribuição de algumas variáveis categóricas atravez do gráfico de pizza.\n",
        "\n",
        "Como a definição dos gráficos ficou grande, vou analisa-los após os mesmos."
      ],
      "metadata": {
        "id": "ddQQPr7OvTB3"
      }
    },
    {
      "cell_type": "code",
      "source": [
        "# cria um layout de subplot com 2 linhas e 2 colunas\n",
        "fig, axs = plt.subplots(nrows=2, ncols=2, figsize=(10,10))\n",
        "\n",
        "# Prepara de forma dinâmica os rótulos para a distribuição de sexo\n",
        "indice_sexo = heart_disease[\"sexo\"].value_counts().index\n",
        "df_pizza_sexo = pd.DataFrame({'valor': indice_sexo})\n",
        "\n",
        "# Transforma os valores de numeros para texto para os rotulos\n",
        "df_pizza_sexo['rotulo'] = pd.Series(dtype='object')\n",
        "df_pizza_sexo.loc[df_pizza_sexo['valor'] == 0, 'rotulo'] = 'Feminino'\n",
        "df_pizza_sexo.loc[df_pizza_sexo['valor'] == 1, 'rotulo'] = 'Masculino'\n",
        "\n",
        "# cria o gráfico de pizza para a distribuição de sexo\n",
        "heart_disease['sexo'].value_counts().plot(kind='pie', ax=axs[0,0], autopct='%1.1f%%', legend=False, \\\n",
        "                                          labels=df_pizza_sexo['rotulo'], colors=paleta_pizza, ylabel=\"\")\n",
        "axs[0,0].set_title(\"Sexo paciente\", fontsize=16, fontweight=\"bold\")\n",
        "\n",
        "# Prepara de forma dinâmica os rótulos para o grau da doença arterial\n",
        "indice_doenca_arterial = heart_disease[\"grau doença arterial\"].value_counts().index\n",
        "df_pizza_doenca_arterial = pd.DataFrame({'valor': indice_doenca_arterial})\n",
        "\n",
        "# Transforma os valores de numeros para texto para os rotulos\n",
        "df_pizza_doenca_arterial['rotulo'] = pd.Series(dtype='object')\n",
        "df_pizza_doenca_arterial.loc[df_pizza_doenca_arterial['valor'] == 0, 'rotulo'] = 'Ausência de doença cardíaca'\n",
        "df_pizza_doenca_arterial.loc[df_pizza_doenca_arterial['valor'] == 1, 'rotulo'] = 'Doença cardíaca grau 1'\n",
        "df_pizza_doenca_arterial.loc[df_pizza_doenca_arterial['valor'] == 2, 'rotulo'] = 'Doença cardíaca grau 2'\n",
        "df_pizza_doenca_arterial.loc[df_pizza_doenca_arterial['valor'] == 3, 'rotulo'] = 'Doença cardíaca grau 3'\n",
        "df_pizza_doenca_arterial.loc[df_pizza_doenca_arterial['valor'] == 4, 'rotulo'] = 'Doença cardíaca grau 4'\n",
        "\n",
        "# cria o gráfico de pizza para o grau da doença arterial\n",
        "explode = (0.1, 0.0, 0.0, 0.0, 0.0)\n",
        "heart_disease['grau doença arterial'].value_counts().plot(kind='pie', ax=axs[0,1], autopct='%1.1f%%', legend=False, \\\n",
        "                                                          labels=df_pizza_doenca_arterial['rotulo'], colors=paleta_grau_doenca_arterial, \\\n",
        "                                                          explode=explode, ylabel=\"\")\n",
        "axs[0,1].set_title(\"Grau da doença arterial\", fontsize=16, fontweight=\"bold\")\n",
        "\n",
        "# Prepara de forma dinâmica os rótulos para o tipo de dor no peito\n",
        "indice_angina = heart_disease[\"angina\"].value_counts().index\n",
        "df_pizza_angina = pd.DataFrame({'valor': indice_angina})\n",
        "\n",
        "# Transforma os valores de numeros para texto para os rotulos\n",
        "df_pizza_angina['rotulo'] = pd.Series(dtype='object')\n",
        "df_pizza_angina.loc[df_pizza_angina['valor'] == 1, 'rotulo'] = 'Angina tipica'\n",
        "df_pizza_angina.loc[df_pizza_angina['valor'] == 2, 'rotulo'] = 'Angina atipica'\n",
        "df_pizza_angina.loc[df_pizza_angina['valor'] == 3, 'rotulo'] = 'Dor torácica não anginal'\n",
        "df_pizza_angina.loc[df_pizza_angina['valor'] == 4, 'rotulo'] = 'Assintomático'\n",
        "\n",
        "# cria o gráfico de pizza para o tipo de dor no peito\n",
        "heart_disease['angina'].value_counts().plot(kind='pie', ax=axs[1,0], autopct='%1.1f%%', legend=False, \\\n",
        "                                            labels=df_pizza_angina['rotulo'], colors=paleta_pizza, ylabel=\"\")\n",
        "axs[1,0].set_title(\"Tipo de dor no peito (Angina)\", fontsize=16, fontweight=\"bold\")\n",
        "\n",
        "# Prepara de forma dinâmica os rótulos para o resultado do Eletrocardiograma\n",
        "indice_ecg = heart_disease[\"ecg\"].value_counts().index\n",
        "df_pizza_ecg = pd.DataFrame({'valor': indice_ecg})\n",
        "\n",
        "# Transforma os valores de numeros para texto para os rotulos\n",
        "df_pizza_ecg['rotulo'] = pd.Series(dtype='object')\n",
        "df_pizza_ecg.loc[df_pizza_ecg['valor'] == 0, 'rotulo'] = 'Normal'\n",
        "df_pizza_ecg.loc[df_pizza_ecg['valor'] == 1, 'rotulo'] = 'Anormalidades da onda ST-T'\n",
        "df_pizza_ecg.loc[df_pizza_ecg['valor'] == 2, 'rotulo'] = 'Hipertrofia ventricular esquerda'\n",
        "\n",
        "# cria o gráfico de pizza para a resultado do Eletrocardiograma\n",
        "heart_disease['ecg'].value_counts().plot(kind='pie', ax=axs[1,1], autopct='%1.1f%%', legend=False, \\\n",
        "                                         labels=df_pizza_ecg['rotulo'], colors=paleta_pizza, ylabel=\"\")\n",
        "axs[1,1].set_title(\"Caracteristica Eletrocardiograma\", fontsize=16, fontweight=\"bold\")\n",
        "\n",
        "# ajusta o espaçamento entre subplots\n",
        "plt.subplots_adjust(wspace=0.8, hspace=0.2)\n",
        "\n",
        "# exibe o gráfico\n",
        "plt.show()\n"
      ],
      "metadata": {
        "id": "mJgZRKBpw7Gg"
      },
      "execution_count": null,
      "outputs": []
    },
    {
      "cell_type": "markdown",
      "source": [
        "Olhando para o primeiro gráfico constatamos que as doenças cardíacas são mais frequentes em pessoal do sexo masculino do que em pessoas do sexo feminino. Isso se dá principalmente por causa de fatores biológicos e comportamentais mais prevalentes nos individuos do sexo masculino, como maior consumo de tabaco e álcool, maior exposição a estresse ocupacional e menor adesão a hábitos saudáveis. \n",
        "\n",
        "Quando olhamos para o gráfico de Grau de Doença Cardíaca observamos que mesmo essa categoria possuindo 5 divisões, A ocorrência de casos de presença de doenças cardíacas e ausência de doenças cardíacas estão quase iguais com uma leve predominância de pacientes sãos.\n",
        "\n",
        "O atributo Angina do terceiro gráfico se refere à dor torácica do paciente e é uma das características mais importantes para o diagnóstico de doenças cardíacas. Ele é dividido em quatro categorias. A presença de angina típica pode indicar uma doença cardíaca coronária, enquanto a angina atípica pode estar relacionada a outras condições cardíacas. Dor não anginal e assintomática, que juntas somam aproximadamente 75% dos casos, não são específicas de doenças cardíacas.\n",
        "\n",
        "Por fim, no ultimo gráfico analisamos os resultados do eletrocardiograma em repouso. Ele pode ter três valores, O valor Normal indica que não há alterações significativas no exame, enquanto os valores Anormalidades da onda ST-T e Hipertrofia ventricular esquerda indicam diferentes graus de anormalidades. Notamos um equilibrio entre os resultados normais e alterados do eletrocardiograma."
      ],
      "metadata": {
        "id": "alXQ0F9q-WLp"
      }
    },
    {
      "cell_type": "markdown",
      "source": [
        "#### 3.3.1 Analise do atributo Angiografia\n",
        "\n",
        "Angiografia coronária é um exame de imagem que utiliza um corante especial e raios X para visualizar as artérias coronárias, que fornecem sangue ao músculo cardíaco. Durante o exame, um cateter é inserido em uma artéria do braço ou da perna e é guiado até as artérias coronárias. O corante é injetado no cateter, permitindo que o médico visualize as artérias coronárias em um monitor de raios X.\n",
        "\n",
        "O atributo angiografia do dataset está descrito como o numero de vasos importantes visíveis durante o exame de mesmo nome. Os valores vão de 0 a 3 sendo zero atribuido a nenhum vaso e vai aumentando até tres vasos. \n",
        "Observando a distribuição dos dados da angiografia no gráfico abaixo podemos notar que aparentemente a informação está invertida "
      ],
      "metadata": {
        "id": "xd6XV3pujSN2"
      }
    },
    {
      "cell_type": "code",
      "source": [
        "# Histograma com a distribuição do atributo angiografia\n",
        "sns.set_style(\"white\")\n",
        "sns.histplot(data=heart_disease, x=\"angiografia\")\n",
        "plt.title('Numero de vasos observados na Angiografia', fontsize=15, fontweight=\"bold\")\n",
        "plt.xticks(np.arange(0, 4, step=1))\n",
        "ax = plt.gca()\n",
        "ax.set_xlabel('')\n",
        "ax.set_ylabel('')\n",
        "\n",
        "plt.show()"
      ],
      "metadata": {
        "id": "ppYPJ4wpvJZT"
      },
      "execution_count": null,
      "outputs": []
    },
    {
      "cell_type": "markdown",
      "source": [
        "### 3.4 O BoxPlot\n",
        "\n",
        "O box plot é um gráfico que apresenta a distribuição de um conjunto de dados numéricos através de cinco estatísticas: valor mínimo, primeiro quartil, mediana, terceiro quartil e valor máximo. Ele é composto por um retângulo (a caixa), que se estende do primeiro ao terceiro quartil, uma linha vertical que representa a mediana e dois segmentos de reta (os bigodes) que se estendem aos valores mínimo e máximo. \n",
        "\n",
        "Vamos utilizar o box plot para identificar a dispersão e a presença de outliers no nosso conjunto de dados. Usaremos novamente o nosso dataset reduzido com as variáveis contínuas (heart_disease_continuas)\n",
        "\n",
        "Alguns possíveis outliers são evidenciados nos gráficos. Podemos entender que tanto valores de 200 para máxima de pressão arterial quanto 71 para batimentos cardíacos são valores que podem ocorrer porém níveis de Colesterol acima de 400 e Depressão do segmento ST no Eletrocardiograma acima de 4,5 podem ser considerados outliers e serão devidamente tratados posteriormente\n"
      ],
      "metadata": {
        "id": "Nqpr7ZEqGnXy"
      }
    },
    {
      "cell_type": "code",
      "source": [
        "# Gráfico box plot com o dataset reduzido heart_disease_continuas\n",
        "fig, axs = plt.subplots(nrows=3, ncols=2, figsize=(10,8))\n",
        "for i, ax in enumerate(axs.flatten()):\n",
        "    heart_disease_continuas.iloc[:,i].plot(kind = 'box', ax=ax)\n",
        "    ax.set_title(titulos_heart_disease_continuas[i], fontsize=13, fontweight='bold')\n",
        "    ax.grid(False)\n",
        "    ax.tick_params(axis='x', labelbottom=False)\n",
        "plt.tight_layout()\n"
      ],
      "metadata": {
        "id": "V8GFu_-vMPQw"
      },
      "execution_count": null,
      "outputs": []
    },
    {
      "cell_type": "markdown",
      "source": [
        "### 3.5 Visualizações Multimodais\n",
        "\n",
        "Visualizações multimodais referem-se ao uso de diferentes tipos de gráficos e técnicas de visualização para explorar e entender os dados. A ideia é aproveitar as diferentes visualizações para obter insights que não seriam possíveis com apenas um tipo de gráfico.\n",
        "\n",
        "\n",
        "Uma matriz de correlação é uma tabela que mostra como duas variáveis ​​se relacionam entre si. O valor da correlação varia de -1 a 1, sendo -1 uma relação negativa (quando uma aumenta a outra diminui), 0 nenhuma relação e 1 uma relação positiva (quando uma aumenta a outra aumenta também). Um heatmap é uma forma visual de representar essa matriz, onde os valores mais altos aparecem em cores mais intensas, enquanto os valores mais baixos aparecem em cores mais suaves. Isso ajuda a identificar rapidamente as relações mais fortes e mais fracas entre as variáveis.\n",
        "\n",
        "\n",
        "Podemos verificar no grafico abaixo que não existem atributos fortemente relacionados. Vemos no entanto a nossa variável target (grau doença arterial) com um relacionamento positivo moderado com a depressão do segmento ST (eletrocardiograma) o que pode começar a responder nossos questionamentos iniciais sobre testes cardíacos, como o ECG, poderem fornecer informações úteis para prever a presença de doença cardíaca.\n",
        "\n",
        "\n",
        "Vemos também que tanto o target quanto a idade possuem uma corelação negativa moderada com os batimentos cardíacos (bpm) e a pressão arterial possue uma leve tendencia a uma correlação positiva com idade. Esses tres pontos estão dentro do esperado visto que com o aumento da idade o normal é ter um aumento da pressão arterial e de doenças cardíacas e também uma diminuição dos batimentos cardíacos (recem nascidos 130bpm / idosos 60bpm).\n",
        "\n",
        "Um ponto que chama atenção é o colesterol que em taxas elevadas normalmente é associado a problemas cardíacos mas está apresentando uma correlação positiva porém bem fraca com o target.\n"
      ],
      "metadata": {
        "id": "o4PLpU19fTMQ"
      }
    },
    {
      "cell_type": "code",
      "execution_count": null,
      "metadata": {
        "id": "5vYa1GojSvNJ"
      },
      "outputs": [],
      "source": [
        "# Matriz de Correlação com Matplotlib Seaborn para o subset de variáveis contínuas\n",
        "fig, ax = plt.subplots(figsize=(10, 7), dpi=80)\n",
        "ax.set_title(\"Matriz de correlação de dados Heart Disease\", fontsize=15, fontweight='bold')\n",
        "sns.heatmap(heart_disease_continuas.corr(), annot=True, cmap='RdBu', linewidths=0.3, ax=ax, vmin=-1, vmax=1);\n"
      ]
    },
    {
      "cell_type": "markdown",
      "source": [
        "\n",
        " "
      ],
      "metadata": {
        "id": "FORlUYMGGCV4"
      }
    },
    {
      "cell_type": "code",
      "execution_count": null,
      "metadata": {
        "id": "TlBkQqxbUSP-"
      },
      "outputs": [],
      "source": [
        "# Scatter Plot com Seaborn - Variação 1\n",
        "\n",
        "sns.pairplot(heart_disease)"
      ]
    },
    {
      "cell_type": "code",
      "execution_count": null,
      "metadata": {
        "id": "Le8yxMvEf8e8"
      },
      "outputs": [],
      "source": [
        "# Scatter Plot com Seaborn - Variação 2\n",
        "sns.pairplot(heart_disease_continuas, hue=\"grau doença arterial\", palette=paleta_grau_doenca_arterial , height = 2.2)"
      ]
    },
    {
      "cell_type": "code",
      "execution_count": null,
      "metadata": {
        "id": "BI0fb4G-Nl0w"
      },
      "outputs": [],
      "source": [
        "# Convertendo os atributos para int\n",
        "#heart_disease[[\"idade\", \"sexo\", \"angina\", \"pa\", \"colesterol\", \"glicose\", \"ecg\", \"bpm\", \"exang\", \"grau doença arterial\"]] = \\\n",
        "#heart_disease[[\"idade\", \"sexo\", \"angina\", \"pa\", \"colesterol\", \"glicose\", \"ecg\", \"bpm\", \"exang\",  \"grau doença arterial\"]].astype(int)\n",
        "\n",
        "#heart_disease[[\"número de vasos\", \"thalassemia\"]] = heart_disease[[\"número de vasos\", \"thalassemia\"]].apply(pd.to_numeric, errors='coerce')\n",
        "#heart_disease[[\"número de vasos\", \"thalassemia\"]] = heart_disease[[\"número de vasos\", \"thalassemia\"]].astype(int)"
      ]
    },
    {
      "cell_type": "code",
      "execution_count": null,
      "metadata": {
        "id": "xVhPXJfgDHdK"
      },
      "outputs": [],
      "source": [
        "#heart_disease.isnull().sum()"
      ]
    },
    {
      "cell_type": "code",
      "execution_count": null,
      "metadata": {
        "id": "PezsD5inCAk4"
      },
      "outputs": [],
      "source": [
        "#heart_disease.replace(\"?\", np.nan, inplace=True)\n",
        "#print(heart_disease.isna().sum())"
      ]
    },
    {
      "cell_type": "code",
      "execution_count": null,
      "metadata": {
        "id": "hTb4WxVUFoQa"
      },
      "outputs": [],
      "source": [
        "#print(heart_disease.describe())\n",
        "#heart_disease['cat'].value_counts()"
      ]
    },
    {
      "cell_type": "code",
      "execution_count": null,
      "metadata": {
        "id": "xFmXuMhyDtcE"
      },
      "outputs": [],
      "source": [
        "import seaborn as sns\n",
        "sns.set_theme(style=\"whitegrid\", palette=\"muted\")\n",
        "\n",
        "# Load the penguins dataset\n",
        "#df = sns.load_dataset(\"heart\")\n",
        "\n",
        "# Draw a categorical scatterplot to show each observation\n",
        "ax = sns.swarmplot(data=heart_disease, x=\"sexo\", y=\"colesterol\", hue=\"grau doença arterial\", palette=paleta_grau_doenca_arterial)\n",
        "ax.set(ylabel=\"colesterol\")"
      ]
    },
    {
      "cell_type": "code",
      "execution_count": null,
      "metadata": {
        "id": "5W-DG2wfaPQj"
      },
      "outputs": [],
      "source": [
        "# Draw a categorical scatterplot to show each observation\n",
        "ax = sns.swarmplot(data=heart_disease, x=\"sexo\", y=\"pa\", hue=\"grau doença arterial\", palette=paleta_grau_doenca_arterial)\n",
        "ax.set(ylabel=\"Pressão Arterial\")"
      ]
    },
    {
      "cell_type": "code",
      "execution_count": null,
      "metadata": {
        "id": "vOUgDVlAbWrc"
      },
      "outputs": [],
      "source": [
        "# Draw a categorical scatterplot to show each observation\n",
        "ax = sns.swarmplot(data=heart_disease, x=\"sexo\", y=\"bpm\", hue=\"grau doença arterial\", palette=paleta_grau_doenca_arterial)\n",
        "ax.set(ylabel=\"Batimentos Cardíacos\")"
      ]
    },
    {
      "cell_type": "code",
      "execution_count": null,
      "metadata": {
        "id": "5qkzOdK3X9ah"
      },
      "outputs": [],
      "source": [
        "df3 = heart_disease[heart_disease['grau doença arterial'] != 0 ][['idade', 'sexo', 'angina', 'pa', 'colesterol', 'glicose', 'ecg', 'bpm',\n",
        "       'exang', 'depressão do segmento ST', 'inclinação do segmento ST', 'cat', 'cintilografia', 'grau doença arterial']] \n",
        "#target 0 - people with heart disease\n",
        "#pal = sns.cubehelix_palette(rot=-.2)\n",
        "print('Age vs trestbps(Heart Diseased Patinets)')\n",
        "sns.jointplot(data=df3,\n",
        "              x='idade',\n",
        "              y='bpm',\n",
        "              kind='hex',\n",
        "              cmap='Blues'\n",
        "           \n",
        "              )"
      ]
    },
    {
      "cell_type": "code",
      "execution_count": null,
      "metadata": {
        "id": "nzDfkZsKZZ_i"
      },
      "outputs": [],
      "source": [
        "sns.jointplot(data=df3,\n",
        "              x='colesterol',\n",
        "              y='idade',\n",
        "              kind='kde',\n",
        "              cmap='PuBu'\n",
        "              )"
      ]
    },
    {
      "cell_type": "code",
      "execution_count": null,
      "metadata": {
        "id": "uxtwvTFJbloA"
      },
      "outputs": [],
      "source": [
        "#penguins = sns.load_dataset(\"heart\")\n",
        "# df4 = heart_disease[['idade', 'pa', 'colesterol',  'bpm', 'grau doença arterial']] \n",
        "\n",
        "# g = sns.PairGrid(df4)\n",
        "# g = sns.PairGrid(df4, hue=\"grau doença arterial\", palette=palette)\n",
        "# g.map_diag(sns.histplot)\n",
        "# g.map_offdiag(sns.swarmplot) #scatterplot\n",
        "# g.add_legend()"
      ]
    },
    {
      "cell_type": "code",
      "execution_count": null,
      "metadata": {
        "id": "G7Tc2o4QQ4DJ"
      },
      "outputs": [],
      "source": [
        "#visualizing Null values if it exists \n",
        "plt.figure(figsize=(22,10))\n",
        "plt.xticks(size=20,color='grey')\n",
        "plt.tick_params(size=12,color='grey')\n",
        "plt.title('Finding Null Values Using Heatmap\\n',color='grey',size=30)\n",
        "sns.heatmap(heart_disease.isnull(),\n",
        "            yticklabels=False,\n",
        "            cbar=False,\n",
        "            cmap='PuBu_r',\n",
        "            )"
      ]
    },
    {
      "cell_type": "code",
      "execution_count": null,
      "metadata": {
        "id": "1Ygafv8dRtZu"
      },
      "outputs": [],
      "source": [
        "# salvando um NOVO dataset para tratamento de missings (cuidado para não sobrescrever o dataset original!)\n",
        "\n",
        "# recuperando os nomes das colunas\n",
        "col = list(heart_disease.columns)\n",
        "\n",
        "# o novo dataset irá conter todas as colunas com exceção da última (classe)\n",
        "atributos = heart_disease[col[0:-1]]\n",
        "\n",
        "# substituindo os zeros por NaN\n",
        "#atributos.replace(0, np.nan, inplace=True)\n",
        "\n",
        "# exibindo visualização matricial da nulidade do dataset\n",
        "ms.matrix(atributos)"
      ]
    }
  ],
  "metadata": {
    "colab": {
      "provenance": [],
      "toc_visible": true
    },
    "kernelspec": {
      "display_name": "Python 3",
      "name": "python3"
    },
    "language_info": {
      "name": "python"
    }
  },
  "nbformat": 4,
  "nbformat_minor": 0
}